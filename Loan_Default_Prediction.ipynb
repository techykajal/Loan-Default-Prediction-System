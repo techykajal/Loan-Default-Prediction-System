{
 "cells": [
  {
   "cell_type": "markdown",
   "id": "158e8d1a",
   "metadata": {},
   "source": [
    "# Overview\n",
    "Loan default prediction is a common problem in the financial industry, as it can help lenders or banks identify borrowers who are likely to default on their loans. This information can be further used to adjust loan terms/conditions, reserve additional funds to cover potential losses, or even deny/refuse loans to high-risk borrowers. In this Project, we will develop a machine learning-based solution to predict loan default."
   ]
  },
  {
   "cell_type": "markdown",
   "id": "3854ed55",
   "metadata": {},
   "source": [
    "In this Project, we will build a predictive model that identifies potential loan defaulters by analyzing various factors like income, credit history, loan amount, and demographic information.\n",
    "\n",
    "We’re dealing with a supervised binary classification problem. The goal is to train the best machine learning model to maximize the predictive capability of deeply understanding the past customer’s profile minimizing the risk of future loan defaults.\n",
    "\n",
    "\n",
    "\n",
    "# Setup"
   ]
  },
  {
   "cell_type": "code",
   "execution_count": 1,
   "id": "07b6d368",
   "metadata": {},
   "outputs": [],
   "source": [
    "#load all libraries\n",
    "import numpy as np\n",
    "import pandas as pd\n",
    "from sklearn.preprocessing import MinMaxScaler, StandardScaler\n",
    "from sklearn.model_selection import train_test_split\n",
    "from sklearn.metrics import accuracy_score, mean_absolute_error, mean_squared_error\n",
    "import seaborn as sns\n",
    "import matplotlib.pyplot as plt\n",
    "from sklearn import tree\n",
    "from sklearn.ensemble import RandomForestClassifier\n",
    "from sklearn.tree import DecisionTreeClassifier\n",
    "from sklearn import metrics\n",
    "from xgboost import XGBClassifier\n",
    "from sklearn.preprocessing import OneHotEncoder\n",
    "from sklearn.linear_model import LogisticRegression\n",
    "from sklearn.neighbors import KNeighborsClassifier\n",
    "from sklearn.svm import SVC\n"
   ]
  },
  {
   "cell_type": "markdown",
   "id": "440e4357",
   "metadata": {},
   "source": [
    "# Loading the data\n",
    "\n",
    "The dataset we're going to use can be downloaded from [Kaggle](https://www.kaggle.com/datasets/qusaybtoush1990/machine-learning?resource=download). The dataset contains information about credit applicants. Banks, globally, use this kind of dataset and type of informative data to create models to help in deciding on who to accept/refuse for a loan.\n",
    "\n",
    "After all the exploratory data analysis, cleansing and dealing with all the anomalies we might (will) find along the way, the patterns of a good/bad applicant will be exposed to be learned by machine learning models."
   ]
  },
  {
   "cell_type": "code",
   "execution_count": 2,
   "id": "a317b592",
   "metadata": {},
   "outputs": [
    {
     "data": {
      "text/plain": [
       "(20000, 15)"
      ]
     },
     "execution_count": 2,
     "metadata": {},
     "output_type": "execute_result"
    }
   ],
   "source": [
    "# Load dataset\n",
    "df = pd.read_csv('lending_club_loan_dataset.csv')\n",
    "\n",
    "# size of the dataset\n",
    "df.shape\n",
    "\n"
   ]
  },
  {
   "cell_type": "code",
   "execution_count": 3,
   "id": "1dad8070",
   "metadata": {},
   "outputs": [
    {
     "data": {
      "text/html": [
       "<div>\n",
       "<style scoped>\n",
       "    .dataframe tbody tr th:only-of-type {\n",
       "        vertical-align: middle;\n",
       "    }\n",
       "\n",
       "    .dataframe tbody tr th {\n",
       "        vertical-align: top;\n",
       "    }\n",
       "\n",
       "    .dataframe thead th {\n",
       "        text-align: right;\n",
       "    }\n",
       "</style>\n",
       "<table border=\"1\" class=\"dataframe\">\n",
       "  <thead>\n",
       "    <tr style=\"text-align: right;\">\n",
       "      <th></th>\n",
       "      <th>id</th>\n",
       "      <th>grade</th>\n",
       "      <th>annual_inc</th>\n",
       "      <th>short_emp</th>\n",
       "      <th>emp_length_num</th>\n",
       "      <th>home_ownership</th>\n",
       "      <th>dti</th>\n",
       "      <th>purpose</th>\n",
       "      <th>term</th>\n",
       "      <th>last_delinq_none</th>\n",
       "      <th>last_major_derog_none</th>\n",
       "      <th>revol_util</th>\n",
       "      <th>total_rec_late_fee</th>\n",
       "      <th>od_ratio</th>\n",
       "      <th>bad_loan</th>\n",
       "    </tr>\n",
       "  </thead>\n",
       "  <tbody>\n",
       "    <tr>\n",
       "      <th>0</th>\n",
       "      <td>11454641</td>\n",
       "      <td>A</td>\n",
       "      <td>100000.0</td>\n",
       "      <td>1</td>\n",
       "      <td>1</td>\n",
       "      <td>RENT</td>\n",
       "      <td>26.27</td>\n",
       "      <td>credit_card</td>\n",
       "      <td>36 months</td>\n",
       "      <td>1</td>\n",
       "      <td>NaN</td>\n",
       "      <td>43.2</td>\n",
       "      <td>0.0</td>\n",
       "      <td>0.160624</td>\n",
       "      <td>0</td>\n",
       "    </tr>\n",
       "    <tr>\n",
       "      <th>1</th>\n",
       "      <td>9604874</td>\n",
       "      <td>A</td>\n",
       "      <td>83000.0</td>\n",
       "      <td>0</td>\n",
       "      <td>4</td>\n",
       "      <td>OWN</td>\n",
       "      <td>5.39</td>\n",
       "      <td>credit_card</td>\n",
       "      <td>36 months</td>\n",
       "      <td>0</td>\n",
       "      <td>NaN</td>\n",
       "      <td>21.5</td>\n",
       "      <td>0.0</td>\n",
       "      <td>0.810777</td>\n",
       "      <td>0</td>\n",
       "    </tr>\n",
       "    <tr>\n",
       "      <th>2</th>\n",
       "      <td>9684700</td>\n",
       "      <td>D</td>\n",
       "      <td>78000.0</td>\n",
       "      <td>0</td>\n",
       "      <td>11</td>\n",
       "      <td>MORTGAGE</td>\n",
       "      <td>18.45</td>\n",
       "      <td>debt_consolidation</td>\n",
       "      <td>60 months</td>\n",
       "      <td>1</td>\n",
       "      <td>NaN</td>\n",
       "      <td>46.3</td>\n",
       "      <td>0.0</td>\n",
       "      <td>0.035147</td>\n",
       "      <td>1</td>\n",
       "    </tr>\n",
       "    <tr>\n",
       "      <th>3</th>\n",
       "      <td>9695736</td>\n",
       "      <td>D</td>\n",
       "      <td>37536.0</td>\n",
       "      <td>0</td>\n",
       "      <td>6</td>\n",
       "      <td>MORTGAGE</td>\n",
       "      <td>12.28</td>\n",
       "      <td>medical</td>\n",
       "      <td>60 months</td>\n",
       "      <td>0</td>\n",
       "      <td>NaN</td>\n",
       "      <td>10.7</td>\n",
       "      <td>0.0</td>\n",
       "      <td>0.534887</td>\n",
       "      <td>1</td>\n",
       "    </tr>\n",
       "    <tr>\n",
       "      <th>4</th>\n",
       "      <td>9795013</td>\n",
       "      <td>D</td>\n",
       "      <td>65000.0</td>\n",
       "      <td>0</td>\n",
       "      <td>11</td>\n",
       "      <td>MORTGAGE</td>\n",
       "      <td>11.26</td>\n",
       "      <td>debt_consolidation</td>\n",
       "      <td>36 months</td>\n",
       "      <td>0</td>\n",
       "      <td>NaN</td>\n",
       "      <td>15.2</td>\n",
       "      <td>0.0</td>\n",
       "      <td>0.166500</td>\n",
       "      <td>0</td>\n",
       "    </tr>\n",
       "  </tbody>\n",
       "</table>\n",
       "</div>"
      ],
      "text/plain": [
       "         id grade  annual_inc  short_emp  emp_length_num home_ownership  \\\n",
       "0  11454641     A    100000.0          1               1           RENT   \n",
       "1   9604874     A     83000.0          0               4            OWN   \n",
       "2   9684700     D     78000.0          0              11       MORTGAGE   \n",
       "3   9695736     D     37536.0          0               6       MORTGAGE   \n",
       "4   9795013     D     65000.0          0              11       MORTGAGE   \n",
       "\n",
       "     dti             purpose        term  last_delinq_none  \\\n",
       "0  26.27         credit_card   36 months                 1   \n",
       "1   5.39         credit_card   36 months                 0   \n",
       "2  18.45  debt_consolidation   60 months                 1   \n",
       "3  12.28             medical   60 months                 0   \n",
       "4  11.26  debt_consolidation   36 months                 0   \n",
       "\n",
       "   last_major_derog_none  revol_util  total_rec_late_fee  od_ratio  bad_loan  \n",
       "0                    NaN        43.2                 0.0  0.160624         0  \n",
       "1                    NaN        21.5                 0.0  0.810777         0  \n",
       "2                    NaN        46.3                 0.0  0.035147         1  \n",
       "3                    NaN        10.7                 0.0  0.534887         1  \n",
       "4                    NaN        15.2                 0.0  0.166500         0  "
      ]
     },
     "execution_count": 3,
     "metadata": {},
     "output_type": "execute_result"
    }
   ],
   "source": [
    "df.head()"
   ]
  },
  {
   "cell_type": "code",
   "execution_count": 4,
   "id": "36d2551b",
   "metadata": {},
   "outputs": [
    {
     "name": "stdout",
     "output_type": "stream",
     "text": [
      "<class 'pandas.core.frame.DataFrame'>\n",
      "RangeIndex: 20000 entries, 0 to 19999\n",
      "Data columns (total 15 columns):\n",
      " #   Column                 Non-Null Count  Dtype  \n",
      "---  ------                 --------------  -----  \n",
      " 0   id                     20000 non-null  int64  \n",
      " 1   grade                  20000 non-null  object \n",
      " 2   annual_inc             20000 non-null  float64\n",
      " 3   short_emp              20000 non-null  int64  \n",
      " 4   emp_length_num         20000 non-null  int64  \n",
      " 5   home_ownership         18509 non-null  object \n",
      " 6   dti                    19846 non-null  float64\n",
      " 7   purpose                20000 non-null  object \n",
      " 8   term                   20000 non-null  object \n",
      " 9   last_delinq_none       20000 non-null  int64  \n",
      " 10  last_major_derog_none  574 non-null    float64\n",
      " 11  revol_util             20000 non-null  float64\n",
      " 12  total_rec_late_fee     20000 non-null  float64\n",
      " 13  od_ratio               20000 non-null  float64\n",
      " 14  bad_loan               20000 non-null  int64  \n",
      "dtypes: float64(6), int64(5), object(4)\n",
      "memory usage: 2.3+ MB\n"
     ]
    }
   ],
   "source": [
    "# Let's explore variables, their data types, and total non-null values\n",
    "df.info()\n"
   ]
  },
  {
   "cell_type": "markdown",
   "id": "bd1fcc47",
   "metadata": {},
   "source": [
    "- As we can see, this dataset has 21 features, with a mix of categorical and numerical features. Some features such as home_ownership, dti, and last_major_derog_none contain NULL values."
   ]
  },
  {
   "cell_type": "markdown",
   "id": "141ff885",
   "metadata": {},
   "source": [
    "# Exploratory Data Analysis\n",
    "- Let’s explore summary statistics of the numerical features in the dataset. As you can see in the below figure, the mean annual income is 73K, the average dti is 16.58, and the average revol_util is 55%."
   ]
  },
  {
   "cell_type": "markdown",
   "id": "261bf83d",
   "metadata": {},
   "source": [
    "- Let’s explore the distribution of the target variable. In this dataset, 20% of the records belong to applications with loan defaults."
   ]
  },
  {
   "cell_type": "code",
   "execution_count": 5,
   "id": "a8d506bb",
   "metadata": {},
   "outputs": [
    {
     "data": {
      "text/plain": [
       "0    0.8\n",
       "1    0.2\n",
       "Name: bad_loan, dtype: float64"
      ]
     },
     "execution_count": 5,
     "metadata": {},
     "output_type": "execute_result"
    }
   ],
   "source": [
    "# Label ratio\n",
    "df['bad_loan'].value_counts(normalize = True)\n"
   ]
  },
  {
   "cell_type": "markdown",
   "id": "3dd1c7d7",
   "metadata": {},
   "source": [
    "- Let’s explore the distribution of home ownership with respect to the target variable. There is no major difference or visible patterns in terms of loan defaults for home ownership features."
   ]
  },
  {
   "cell_type": "code",
   "execution_count": 6,
   "id": "603eb801",
   "metadata": {},
   "outputs": [
    {
     "data": {
      "text/plain": [
       "<AxesSubplot:xlabel='home_ownership', ylabel='count'>"
      ]
     },
     "execution_count": 6,
     "metadata": {},
     "output_type": "execute_result"
    },
    {
     "data": {
      "image/png": "[encoded data removed]",
      "text/plain": [
       "<Figure size 864x432 with 1 Axes>"
      ]
     },
     "metadata": {
      "needs_background": "light"
     },
     "output_type": "display_data"
    }
   ],
   "source": [
    "# Distribution of home_ownership based on churn status\n",
    "plt.figure(figsize = (12,6))\n",
    "sns.countplot(x = 'home_ownership', hue = 'bad_loan', data = df)\n"
   ]
  },
  {
   "cell_type": "markdown",
   "id": "324bbf21",
   "metadata": {},
   "source": [
    "- Let’s explore the distribution of term duration with respect to the target variable. There is also no major difference in terms of loan defaults for the term, but there is a typo in the feature. You can see both categories - 36 months and 36 Months, both are the same."
   ]
  },
  {
   "cell_type": "code",
   "execution_count": 7,
   "id": "0d1086e2",
   "metadata": {},
   "outputs": [
    {
     "data": {
      "text/plain": [
       "<AxesSubplot:xlabel='term', ylabel='count'>"
      ]
     },
     "execution_count": 7,
     "metadata": {},
     "output_type": "execute_result"
    },
    {
     "data": {
      "image/png": "[encoded data removed]",
      "text/plain": [
       "<Figure size 864x432 with 1 Axes>"
      ]
     },
     "metadata": {
      "needs_background": "light"
     },
     "output_type": "display_data"
    }
   ],
   "source": [
    "# Distribution of term based on churn status\n",
    "plt.figure(figsize = (12,6))\n",
    "sns.countplot(x = 'term', hue = 'bad_loan', data = df)\n"
   ]
  },
  {
   "cell_type": "markdown",
   "id": "17c4d1b0",
   "metadata": {},
   "source": [
    "- Let’s explore the distribution of loan grade with respect to the target variable. As you can see in the figure below, as loan grade increases, the chances of default also increase. It means that the probability of loan defaults is higher in loan grades - D, E, F, G"
   ]
  },
  {
   "cell_type": "code",
   "execution_count": 8,
   "id": "c824592d",
   "metadata": {
    "scrolled": true
   },
   "outputs": [
    {
     "data": {
      "text/plain": [
       "<AxesSubplot:xlabel='grade', ylabel='count'>"
      ]
     },
     "execution_count": 8,
     "metadata": {},
     "output_type": "execute_result"
    },
    {
     "data": {
      "image/png": "[encoded data removed]",
      "text/plain": [
       "<Figure size 864x432 with 1 Axes>"
      ]
     },
     "metadata": {
      "needs_background": "light"
     },
     "output_type": "display_data"
    }
   ],
   "source": [
    "# Distribution of grade based on churn status\n",
    "plt.figure(figsize = (12,6))\n",
    "sns.countplot(x = 'grade', hue = 'bad_loan', data = df)\n"
   ]
  },
  {
   "cell_type": "markdown",
   "id": "81e6f089",
   "metadata": {},
   "source": [
    "- Let’s explore the distribution of the purpose feature in the dataset. Based on it, the top 3 purposes for the loan are - debt consolidation, credit card, and home improvement."
   ]
  },
  {
   "cell_type": "code",
   "execution_count": 9,
   "id": "d62a9200",
   "metadata": {
    "scrolled": true
   },
   "outputs": [
    {
     "data": {
      "text/plain": [
       "(array([ 0,  1,  2,  3,  4,  5,  6,  7,  8,  9, 10, 11]),\n",
       " [Text(0, 0, 'credit_card'),\n",
       "  Text(1, 0, 'debt_consolidation'),\n",
       "  Text(2, 0, 'medical'),\n",
       "  Text(3, 0, 'other'),\n",
       "  Text(4, 0, 'home_improvement'),\n",
       "  Text(5, 0, 'small_business'),\n",
       "  Text(6, 0, 'major_purchase'),\n",
       "  Text(7, 0, 'vacation'),\n",
       "  Text(8, 0, 'car'),\n",
       "  Text(9, 0, 'house'),\n",
       "  Text(10, 0, 'moving'),\n",
       "  Text(11, 0, 'wedding')])"
      ]
     },
     "execution_count": 9,
     "metadata": {},
     "output_type": "execute_result"
    },
    {
     "data": {
      "image/png": "[encoded data removed]",
      "text/plain": [
       "<Figure size 864x432 with 1 Axes>"
      ]
     },
     "metadata": {
      "needs_background": "light"
     },
     "output_type": "display_data"
    }
   ],
   "source": [
    "# Distribution of purpose \n",
    "plt.figure(figsize = (12,6))\n",
    "sns.countplot(x = 'purpose', data = df)\n",
    "plt.xticks(rotation = 90)\n"
   ]
  },
  {
   "cell_type": "markdown",
   "id": "810e44a6",
   "metadata": {},
   "source": [
    "- Now, let’s explore distributions of numerical features, dti, and annual income, using box plots for each target label. As you can see below, people with low annual income and higher dti are likely to default on loans."
   ]
  },
  {
   "cell_type": "code",
   "execution_count": 10,
   "id": "566b67b0",
   "metadata": {},
   "outputs": [
    {
     "data": {
      "text/plain": [
       "<AxesSubplot:xlabel='bad_loan', ylabel='annual_inc'>"
      ]
     },
     "execution_count": 10,
     "metadata": {},
     "output_type": "execute_result"
    },
    {
     "data": {
      "image/png": "[encoded data removed]",
      "text/plain": [
       "<Figure size 864x432 with 1 Axes>"
      ]
     },
     "metadata": {
      "needs_background": "light"
     },
     "output_type": "display_data"
    }
   ],
   "source": [
    "# Distribution of annual income based on churn status\n",
    "plt.figure(figsize = (12,6))\n",
    "sns.boxplot(x = 'bad_loan', y ='annual_inc', data = df, showfliers = False)\n"
   ]
  },
  {
   "cell_type": "code",
   "execution_count": 11,
   "id": "8f26eb87",
   "metadata": {
    "scrolled": true
   },
   "outputs": [
    {
     "data": {
      "text/plain": [
       "<AxesSubplot:xlabel='bad_loan', ylabel='dti'>"
      ]
     },
     "execution_count": 11,
     "metadata": {},
     "output_type": "execute_result"
    },
    {
     "data": {
      "image/png": "[encoded data removed]",
      "text/plain": [
       "<Figure size 864x432 with 1 Axes>"
      ]
     },
     "metadata": {
      "needs_background": "light"
     },
     "output_type": "display_data"
    }
   ],
   "source": [
    "# Distribution of dti based on churn status\n",
    "plt.figure(figsize = (12,6))\n",
    "sns.boxplot(x = 'bad_loan', y ='dti', data = df, showfliers = False)\n"
   ]
  },
  {
   "cell_type": "markdown",
   "id": "7f00c5e2",
   "metadata": {},
   "source": [
    "## Data Cleaning\n",
    "- In this step, we will replace NULL values in home_ownership feature by mode and in dti by mean method. We will drop the last_major_derog_none column as it contains a lot of NULL values, and there is no appropriate method to impute missing values.\n",
    "- We will also resolve the inconsistencies in the term feature."
   ]
  },
  {
   "cell_type": "code",
   "execution_count": 12,
   "id": "917e84f9",
   "metadata": {},
   "outputs": [],
   "source": [
    "# Impute NULL values in home ownership by mode\n",
    "df['home_ownership'] = df['home_ownership'].fillna(df['home_ownership'].mode()[0])\n",
    "\n",
    "# Impute NULL values in dti by mean\n",
    "df['dti'] = df['dti'].fillna(df['dti'].mean())\n",
    "\n",
    "# remove last_major_derog_none columns as it contains a lot of NULL values\n",
    "df.drop(['last_major_derog_none'], axis = 1, inplace = True)\n",
    "\n",
    "# remove inconsistencies in term feature\n",
    "df['term'] = df['term'].apply(lambda i : i.lower())\n"
   ]
  },
  {
   "cell_type": "markdown",
   "id": "d0d430d5",
   "metadata": {},
   "source": [
    "## Data Preprocessing\n",
    "- Before developing the ML models, let’s standardize numerical features in the dataset, and one hot encode categorical features. We will use the StandardScaler class provided by the sklearn library in Python. Further, we will split the input data into training and testing data with an 80:20 ratio."
   ]
  },
  {
   "cell_type": "code",
   "execution_count": 13,
   "id": "6b2d36ba",
   "metadata": {},
   "outputs": [],
   "source": [
    "# one hot encoding\n",
    "cols_to_encode = ['grade', 'home_ownership', 'purpose', 'term']\n",
    "df = pd.get_dummies(data = df, columns = cols_to_encode, drop_first = True)\n",
    "\n",
    "# Standard Scaler\n",
    "standard_scaler = StandardScaler()\n",
    "feature_cols = ['annual_inc', 'emp_length_num', 'dti','revol_util', 'total_rec_late_fee', 'od_ratio']\n",
    "transformed_features = standard_scaler.fit_transform(df[feature_cols])\n",
    "\n",
    "df[feature_cols] = transformed_features\n",
    "\n",
    "# split data into train and test\n",
    "feature_cols  = df.columns.tolist()\n",
    "feature_cols = [i for i in feature_cols if i not in ['id', 'bad_loan']]\n",
    "x_train, x_test, y_train, y_test = train_test_split(df[feature_cols], df['bad_loan'], test_size = 0.2, random_state = 1234)\n"
   ]
  },
  {
   "cell_type": "markdown",
   "id": "b347ad96",
   "metadata": {},
   "source": [
    "## Developing the ML Models\n",
    "- First, we will train a logistic regression model and evaluate its performance. In this project, we will use accuracy, precision, and recall scores to compare and evaluate the performance of the ML models."
   ]
  },
  {
   "cell_type": "code",
   "execution_count": 14,
   "id": "40aaa520",
   "metadata": {},
   "outputs": [
    {
     "name": "stdout",
     "output_type": "stream",
     "text": [
      "              precision    recall  f1-score   support\n",
      "\n",
      "           0       0.88      0.63      0.73      3181\n",
      "           1       0.32      0.66      0.43       819\n",
      "\n",
      "    accuracy                           0.64      4000\n",
      "   macro avg       0.60      0.65      0.58      4000\n",
      "weighted avg       0.76      0.64      0.67      4000\n",
      "\n",
      "[[2003 1178]\n",
      " [ 275  544]]\n"
     ]
    }
   ],
   "source": [
    "logistic_regression_classifier = LogisticRegression(max_iter = 1000, solver = 'lbfgs', random_state = 1234, class_weight = 'balanced' )\n",
    "logistic_regression_classifier.fit(x_train, y_train)\n",
    "\n",
    "prediction_values_lr = logistic_regression_classifier.predict(x_test)\n",
    "print(metrics.classification_report(y_test, prediction_values_lr, digits = 2))\n",
    "print(metrics.confusion_matrix(y_test, prediction_values_lr))\n"
   ]
  },
  {
   "cell_type": "markdown",
   "id": "3b370f03",
   "metadata": {},
   "source": [
    "- As we can see in the above figure the accuracy is only 64%. The precision and recall for the positive class are 32% and 66%, respectively. Let’s build a K nearest neighbor classifier next and check whether we get any improvement in accuracy, precision, and recall score or not."
   ]
  },
  {
   "cell_type": "code",
   "execution_count": 15,
   "id": "35b17288",
   "metadata": {},
   "outputs": [
    {
     "name": "stdout",
     "output_type": "stream",
     "text": [
      "              precision    recall  f1-score   support\n",
      "\n",
      "           0       0.80      1.00      0.89      3181\n",
      "           1       0.72      0.04      0.07       819\n",
      "\n",
      "    accuracy                           0.80      4000\n",
      "   macro avg       0.76      0.52      0.48      4000\n",
      "weighted avg       0.79      0.80      0.72      4000\n",
      "\n",
      "[[3170   11]\n",
      " [ 790   29]]\n"
     ]
    }
   ],
   "source": [
    "knn_classifier = KNeighborsClassifier(n_neighbors = 100)\n",
    "knn_classifier.fit(x_train, y_train)\n",
    "\n",
    "prediction_values_knn = knn_classifier.predict(x_test)\n",
    "print(metrics.classification_report(y_test, prediction_values_knn, digits = 2))\n",
    "print(metrics.confusion_matrix(y_test, prediction_values_knn))\n"
   ]
  },
  {
   "cell_type": "markdown",
   "id": "3a9aaa8a",
   "metadata": {},
   "source": [
    "- As we can see in the above figure, with KNN, accuracy, and precision improved to 80% and 72%, respectively, but recall reduced to only 4%. Let’s build an SVM classifier and check whether we get any further improvement."
   ]
  },
  {
   "cell_type": "code",
   "execution_count": 16,
   "id": "350ef5fd",
   "metadata": {
    "scrolled": true
   },
   "outputs": [
    {
     "name": "stdout",
     "output_type": "stream",
     "text": [
      "[LibSVM]              precision    recall  f1-score   support\n",
      "\n",
      "           0       0.88      0.64      0.74      3181\n",
      "           1       0.32      0.66      0.43       819\n",
      "\n",
      "    accuracy                           0.64      4000\n",
      "   macro avg       0.60      0.65      0.59      4000\n",
      "weighted avg       0.76      0.64      0.68      4000\n",
      "\n",
      "[[2040 1141]\n",
      " [ 281  538]]\n"
     ]
    }
   ],
   "source": [
    "svm_classifier = SVC(random_state = 1234, class_weight = 'balanced', probability = True, verbose = True)\n",
    "svm_classifier.fit(x_train, y_train)\n",
    "\n",
    "prediction_values_svm = svm_classifier.predict(x_test)\n",
    "print(metrics.classification_report(y_test, prediction_values_svm, digits = 2))\n",
    "print(metrics.confusion_matrix(y_test, prediction_values_svm))\n"
   ]
  },
  {
   "cell_type": "markdown",
   "id": "c08390d3",
   "metadata": {},
   "source": [
    "- SVM performance is similar to logistic regression. Its accuracy, precision, and recall values are almost the same as logistic regression. Let’s build a decision tree classifier in the next step."
   ]
  },
  {
   "cell_type": "code",
   "execution_count": 17,
   "id": "b1434774",
   "metadata": {},
   "outputs": [
    {
     "name": "stdout",
     "output_type": "stream",
     "text": [
      "              precision    recall  f1-score   support\n",
      "\n",
      "           0       0.80      1.00      0.89      3181\n",
      "           1       0.74      0.03      0.06       819\n",
      "\n",
      "    accuracy                           0.80      4000\n",
      "   macro avg       0.77      0.51      0.47      4000\n",
      "weighted avg       0.79      0.80      0.72      4000\n",
      "\n",
      "[[3172    9]\n",
      " [ 794   25]]\n"
     ]
    }
   ],
   "source": [
    "decision_tree_classifier = DecisionTreeClassifier(max_depth = 4, random_state = 1234)\n",
    "decision_tree_classifier.fit(x_train, y_train)\n",
    "\n",
    "prediction_values_dt = decision_tree_classifier.predict(x_test)\n",
    "print(metrics.classification_report(y_test, prediction_values_dt, digits = 2))\n",
    "print(metrics.confusion_matrix(y_test, prediction_values_dt))\n"
   ]
  },
  {
   "cell_type": "markdown",
   "id": "def505c5",
   "metadata": {},
   "source": [
    "- Decision tree classifier performance is the same as the KNN classifier. It has high precision but very poor recall. Let’s check whether the Random Forest classifier shows any improvement or not."
   ]
  },
  {
   "cell_type": "code",
   "execution_count": 20,
   "id": "43dd7461",
   "metadata": {},
   "outputs": [
    {
     "name": "stdout",
     "output_type": "stream",
     "text": [
      "              precision    recall  f1-score   support\n",
      "\n",
      "           0       0.80      1.00      0.89      3181\n",
      "           1       1.00      0.00      0.01       819\n",
      "\n",
      "    accuracy                           0.80      4000\n",
      "   macro avg       0.90      0.50      0.45      4000\n",
      "weighted avg       0.84      0.80      0.71      4000\n",
      "\n",
      "[[3181    0]\n",
      " [ 816    3]]\n"
     ]
    }
   ],
   "source": [
    "# Initialize Random Forest Model\n",
    "random_forest = RandomForestClassifier(n_estimators = 1000, max_depth = 3, random_state = 1234)\n",
    "random_forest.fit(x_train, y_train)\n",
    "\n",
    "prediction_values_rf = random_forest.predict(x_test)\n",
    "print(metrics.classification_report(y_test, prediction_values_rf, digits = 2))\n",
    "print(metrics.confusion_matrix(y_test, prediction_values_rf))"
   ]
  },
  {
   "cell_type": "markdown",
   "id": "27f231c7",
   "metadata": {},
   "source": [
    "- Random forest is also performing very poorly in predicting loan defaults. Let’s explore the XGBoost classifier in the next step."
   ]
  },
  {
   "cell_type": "code",
   "execution_count": 19,
   "id": "6708641c",
   "metadata": {},
   "outputs": [
    {
     "name": "stdout",
     "output_type": "stream",
     "text": [
      "              precision    recall  f1-score   support\n",
      "\n",
      "           0       0.82      0.91      0.86      3181\n",
      "           1       0.37      0.20      0.26       819\n",
      "\n",
      "    accuracy                           0.76      4000\n",
      "   macro avg       0.59      0.56      0.56      4000\n",
      "weighted avg       0.72      0.76      0.74      4000\n",
      "\n",
      "[[2893  288]\n",
      " [ 653  166]]\n"
     ]
    }
   ],
   "source": [
    "# Initialize XGBoost Model\n",
    "xgboost_classifier = XGBClassifier(n_estimators = 5000, max_depth = 4, random_state = 1234, learning_rate = 0.3)\n",
    "xgboost_classifier.fit(x_train, y_train)\n",
    "\n",
    "# Predict label for the test data and print classification report and confusion matrix\n",
    "prediction_values_xgboost = xgboost_classifier.predict(x_test)\n",
    "print(metrics.classification_report(y_test, prediction_values_xgboost, digits = 2))\n",
    "print(metrics.confusion_matrix(y_test, prediction_values_xgboost))\n"
   ]
  },
  {
   "cell_type": "markdown",
   "id": "fb1d4141",
   "metadata": {},
   "source": [
    "- As you can see, XGBoost has good accuracy and precision, but its recall is very poor compared with SVM and Logistic Regression models. Thus, we can conclude that for this problem, SVM and Logistic Regression models work best."
   ]
  },
  {
   "cell_type": "markdown",
   "id": "8f4750d9",
   "metadata": {},
   "source": [
    "## Conclusion\n",
    "- We examined the loan default dataset by applying various statistical and visualization techniques.\n",
    "- We trained and developed six ML models. We also concluded that for this problem, SVM and Logistic Regression models work best."
   ]
  }
 ],
 "metadata": {
  "kernelspec": {
   "display_name": "Python 3 (ipykernel)",
   "language": "python",
   "name": "python3"
  },
  "language_info": {
   "codemirror_mode": {
    "name": "ipython",
    "version": 3
   },
   "file_extension": ".py",
   "mimetype": "text/x-python",
   "name": "python",
   "nbconvert_exporter": "python",
   "pygments_lexer": "ipython3",
   "version": "3.9.7"
  }
 },
 "nbformat": 4,
 "nbformat_minor": 5
}
